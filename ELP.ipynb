{
  "nbformat": 4,
  "nbformat_minor": 0,
  "metadata": {
    "colab": {
      "name": "ELP",
      "provenance": [],
      "authorship_tag": "ABX9TyP6tOaFhpQYKC/SVkPkJK/U",
      "include_colab_link": true
    },
    "kernelspec": {
      "name": "python3",
      "display_name": "Python 3"
    },
    "language_info": {
      "name": "python"
    }
  },
  "cells": [
    {
      "cell_type": "markdown",
      "metadata": {
        "id": "view-in-github",
        "colab_type": "text"
      },
      "source": [
        "<a href=\"https://colab.research.google.com/github/Keer-Luo/Keer-Luo/blob/main/ELP.ipynb\" target=\"_parent\"><img src=\"https://colab.research.google.com/assets/colab-badge.svg\" alt=\"Open In Colab\"/></a>"
      ]
    },
    {
      "cell_type": "markdown",
      "metadata": {
        "id": "GjjFY87HT1CX"
      },
      "source": [
        "#Question 2 #\n",
        "add the comments"
      ]
    },
    {
      "cell_type": "code",
      "metadata": {
        "id": "vb9HdH0oTNw1"
      },
      "source": [
        "# define the url \n",
        "def get_url(search_term, template): \n",
        "# Replace the spaces in the search keyword with a '+'\n",
        "search_term = search_term.replace(' ', '+')\n",
        "# Search keyword embedded in template in the url template string\n",
        "url = template.format(search_term)\n",
        "# Add the page code to get query parameter in the url\n",
        "url += '&page={}' \n",
        "return url"
      ],
      "execution_count": null,
      "outputs": []
    },
    {
      "cell_type": "markdown",
      "metadata": {
        "id": "Rdiw8HopUAqQ"
      },
      "source": [
        "#Question 3#\n",
        "find the errors"
      ]
    },
    {
      "cell_type": "code",
      "metadata": {
        "id": "8Xj7IDdcTxyu"
      },
      "source": [
        "def efficiency(dist, gas) \n",
        "return dist/gas\n",
        "km = input (\"How far did your car travel? (In kilometers?) ) liters \n",
        "= input (\"How much gas did you use? (In liters)\"\n",
        "MPG = efficiency(dist_traveled, Liters) \n",
        "print MPG\n",
        "\n"
      ],
      "execution_count": null,
      "outputs": []
    },
    {
      "cell_type": "markdown",
      "metadata": {
        "id": "C3O8T7dKUuNX"
      },
      "source": [
        "1. **syntax error**: There is no colon at the end of \"def efficiency(dist, gas)\" in the first line\n",
        "\n",
        "2. **syntax error**: String is finally missing ' \" 'in the third line\n",
        "\n",
        "3. **syntax error**: Missing \" ) \" at the end of fourth line\n",
        "\n",
        "4. **logic error**: Missing data type define before the fifth line\n",
        "\n",
        "5. **runtime error**: The \"dist_traveled\" in the fifth line shoule be the \" km \". It is \" MPG = efficiency(float(km),float(liters)) \"\n",
        "\n",
        "6. **syntax error**: There is a lack of brackets in the sixth line, It is \" print (MPG) \"\n"
      ]
    },
    {
      "cell_type": "markdown",
      "metadata": {
        "id": "7YYpZuWKUWA0"
      },
      "source": [
        "#Question 4#"
      ]
    },
    {
      "cell_type": "code",
      "metadata": {
        "colab": {
          "base_uri": "https://localhost:8080/",
          "height": 502
        },
        "id": "8RvTl9A8Udig",
        "outputId": "249052af-45db-4823-db92-c064a7260404"
      },
      "source": [
        "import pandas as pd\n",
        "# read the csv data\n",
        "df = pd.read_csv('sales.csv')\n",
        "# print the max, min and sum\n",
        "print(df['Total Profit'].max())\n",
        "print(df['Total Profit'].min())\n",
        "print(df['Total Profit'].sum() / len(df['Total Profit']))\n",
        "# acquire the data\n",
        "df2 = df[df['Region']=='Australia and Oceania']\n",
        "df2.loc[:, ['Country', 'Total Profit']].plot(kind='bar', x='Country', y='Total Profit')"
      ],
      "execution_count": 15,
      "outputs": [
        {
          "output_type": "stream",
          "name": "stdout",
          "text": [
            "1719922.04\n",
            "1258.02\n",
            "441681.98399999994\n"
          ]
        },
        {
          "output_type": "execute_result",
          "data": {
            "text/plain": [
              "<matplotlib.axes._subplots.AxesSubplot at 0x7fc149359450>"
            ]
          },
          "metadata": {},
          "execution_count": 15
        },
        {
          "output_type": "display_data",
          "data": {
            "image/png": "[encoded data removed]",
            "text/plain": [
              "<Figure size 432x288 with 1 Axes>"
            ]
          },
          "metadata": {
            "needs_background": "light"
          }
        }
      ]
    }
  ]
}